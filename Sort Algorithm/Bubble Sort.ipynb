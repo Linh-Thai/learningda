{
 "cells": [
  {
   "cell_type": "code",
   "execution_count": null,
   "id": "6c8c19d9",
   "metadata": {},
   "outputs": [],
   "source": [
    "elements = [5,9,2,1,67,34,88,34]\n",
    "def bubble_sort(elements):\n",
    "    size = len(elements)\n",
    "\n",
    "    for i in range(2):\n",
    "        for j in range(size-1):\n",
    "            if elements[j] > elements[j+1]:\n",
    "                tmp = elements[j]\n",
    "                elements[j] = elements[j+1]\n",
    "                elements[j+1] = tmp\n",
    "    return elements\n",
    "                \n",
    "print(bubble_sort(elements))"
   ]
  }
 ],
 "metadata": {
  "kernelspec": {
   "display_name": "Python 3",
   "language": "python",
   "name": "python3"
  },
  "language_info": {
   "codemirror_mode": {
    "name": "ipython",
    "version": 3
   },
   "file_extension": ".py",
   "mimetype": "text/x-python",
   "name": "python",
   "nbconvert_exporter": "python",
   "pygments_lexer": "ipython3",
   "version": "3.8.8"
  }
 },
 "nbformat": 4,
 "nbformat_minor": 5
}
