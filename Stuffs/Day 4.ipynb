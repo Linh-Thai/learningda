{
 "cells": [
  {
   "cell_type": "code",
   "execution_count": null,
   "id": "360989ef",
   "metadata": {},
   "outputs": [],
   "source": [
    "import pandas as pd, numpy as np\n",
    "import os, sys\n",
    "from datetime import datetime, timedelta\n",
    "import math\n",
    "from pprint import pprint\n",
    "import random"
   ]
  },
  {
   "cell_type": "code",
   "execution_count": 2,
   "id": "bbbf2bc9",
   "metadata": {},
   "outputs": [
    {
     "name": "stdout",
     "output_type": "stream",
     "text": [
      "16\n",
      "24\n"
     ]
    }
   ],
   "source": [
    "arr = [1, 3, 5, 7, 9]\n",
    "x = sum(arr)\n",
    "min_value = arr[0]\n",
    "max_value = arr[0]\n",
    "for i in arr:\n",
    "    if i > max_value:\n",
    "        max_value = i\n",
    "    if i < min_value:\n",
    "        min_value = i\n",
    "sum_min = x - max_value\n",
    "sum_max = x - min_value\n",
    "print(sum_min)\n",
    "print(sum_max)\n",
    "\n",
    "        \n",
    "        \n"
   ]
  },
  {
   "cell_type": "code",
   "execution_count": 11,
   "id": "7e7d8798",
   "metadata": {},
   "outputs": [
    {
     "name": "stdout",
     "output_type": "stream",
     "text": [
      "1\n"
     ]
    }
   ],
   "source": [
    "s = [[4, 9, 2], [3, 5, 7], [8, 1, 5]]\n",
    "arr = []\n",
    "for i in s:\n",
    "    arr += i\n",
    "\n",
    "all_matrix = [[8, 1, 6, 3, 5, 7, 4, 9, 2], [6, 1, 8, 7, 5, 3, 2, 9, 4],\n",
    "              [4, 3, 8, 9, 5, 1, 2, 7, 6], [2, 7, 6, 9, 5, 1, 4, 3, 8],\n",
    "            [2, 9, 4, 7, 5, 3, 6, 1, 8], [4, 9, 2, 3, 5, 7, 8, 1, 6],\n",
    "            [6, 7, 2, 1, 5, 9, 8, 3, 4], [8, 3, 4, 1, 5, 9, 6, 7, 2]]\n",
    "\n",
    "sum_ls = []\n",
    "for l in all_matrix:\n",
    "    sum_ls.append(sum([abs(arr[i]-l[i]) for i in range(9)]))\n",
    " \n",
    "print(min(sum_ls))\n",
    "    \n",
    "    "
   ]
  },
  {
   "cell_type": "code",
   "execution_count": 20,
   "id": "c8730b79",
   "metadata": {},
   "outputs": [
    {
     "name": "stdout",
     "output_type": "stream",
     "text": [
      "120\n"
     ]
    }
   ],
   "source": [
    "n = 5\n",
    "fac = 1\n",
    "if n == 1:\n",
    "    fac = 1\n",
    "elif 1 < n <= 100:\n",
    "    for n in range(2, n + 1):\n",
    "        fac *= n\n",
    "print(fac)\n"
   ]
  },
  {
   "cell_type": "code",
   "execution_count": null,
   "id": "1f593832",
   "metadata": {},
   "outputs": [],
   "source": [
    "from collections import Counter\n",
    "s = 'aabbbbbddkkih'\n",
    "dict_s = Counter(list(s))\n",
    "dict_keys=sorted(dict_s.items(), key=lambda x: (-x[1], x[0]))\n",
    "\n",
    "print(key,dict_s[key])"
   ]
  },
  {
   "cell_type": "code",
   "execution_count": null,
   "id": "804698ef",
   "metadata": {},
   "outputs": [],
   "source": []
  }
 ],
 "metadata": {
  "kernelspec": {
   "display_name": "Python 3",
   "language": "python",
   "name": "python3"
  },
  "language_info": {
   "codemirror_mode": {
    "name": "ipython",
    "version": 3
   },
   "file_extension": ".py",
   "mimetype": "text/x-python",
   "name": "python",
   "nbconvert_exporter": "python",
   "pygments_lexer": "ipython3",
   "version": "3.8.8"
  }
 },
 "nbformat": 4,
 "nbformat_minor": 5
}
