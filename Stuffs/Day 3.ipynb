{
 "cells": [
  {
   "cell_type": "code",
   "execution_count": 3,
   "id": "b8ad390f",
   "metadata": {},
   "outputs": [],
   "source": [
    "import pandas as pd, numpy as np\n",
    "import os, sys\n",
    "from datetime import datetime, timedelta\n",
    "import math\n",
    "from pprint import pprint\n",
    "import random"
   ]
  },
  {
   "cell_type": "code",
   "execution_count": 4,
   "id": "7a645e73",
   "metadata": {},
   "outputs": [],
   "source": [
    "ls_number = np.random.randint(70, 200, size=20)"
   ]
  },
  {
   "cell_type": "code",
   "execution_count": 5,
   "id": "1b9ddca0",
   "metadata": {},
   "outputs": [
    {
     "name": "stdout",
     "output_type": "stream",
     "text": [
      "89 191 3054 152.7\n"
     ]
    }
   ],
   "source": [
    "min_value = ls_number[0]\n",
    "max_value = ls_number[0]\n",
    "total = 0\n",
    "for i in ls_number:\n",
    "    if i < min_value:\n",
    "        min_value = i\n",
    "    if i > max_value:\n",
    "        max_value = i\n",
    "    total += i\n",
    "avg = total/len(ls_number)\n",
    "print(min_value, max_value, total, avg)\n",
    "    \n",
    "    \n",
    "\n",
    "    "
   ]
  },
  {
   "cell_type": "code",
   "execution_count": 6,
   "id": "34f4d3bc",
   "metadata": {},
   "outputs": [
    {
     "name": "stdout",
     "output_type": "stream",
     "text": [
      "191 89 3054\n"
     ]
    }
   ],
   "source": [
    "print(max(ls_number), min(ls_number), sum(ls_number))\n"
   ]
  },
  {
   "cell_type": "code",
   "execution_count": 9,
   "id": "05d4ce5e",
   "metadata": {},
   "outputs": [
    {
     "name": "stdout",
     "output_type": "stream",
     "text": [
      "1 \n",
      "1 2 \n",
      "1 2 3 \n",
      "1 2 3 4 \n",
      "1 2 3 4 5 \n"
     ]
    }
   ],
   "source": [
    "n = 5\n",
    "my_str = ''\n",
    "for i in range(1, n+1):\n",
    "    my_str += str(i) + \" \" \n",
    "    print(my_str)\n",
    "    "
   ]
  },
  {
   "cell_type": "code",
   "execution_count": 5,
   "id": "0d9a694c",
   "metadata": {},
   "outputs": [
    {
     "ename": "TypeError",
     "evalue": "sequence item 0: expected str instance, int found",
     "output_type": "error",
     "traceback": [
      "\u001b[1;31m---------------------------------------------------------------------------\u001b[0m",
      "\u001b[1;31mTypeError\u001b[0m                                 Traceback (most recent call last)",
      "\u001b[1;32m<ipython-input-5-a2193d744cfb>\u001b[0m in \u001b[0;36m<module>\u001b[1;34m\u001b[0m\n\u001b[0;32m      9\u001b[0m     \u001b[0mls_now\u001b[0m\u001b[1;33m.\u001b[0m\u001b[0mappend\u001b[0m\u001b[1;33m(\u001b[0m\u001b[1;36m1\u001b[0m\u001b[1;33m)\u001b[0m\u001b[1;33m\u001b[0m\u001b[1;33m\u001b[0m\u001b[0m\n\u001b[0;32m     10\u001b[0m     \u001b[0mls_prev\u001b[0m \u001b[1;33m=\u001b[0m \u001b[0mls_now\u001b[0m\u001b[1;33m\u001b[0m\u001b[1;33m\u001b[0m\u001b[0m\n\u001b[1;32m---> 11\u001b[1;33m \u001b[0mstrf\u001b[0m \u001b[1;33m=\u001b[0m \u001b[1;34m''\u001b[0m\u001b[1;33m.\u001b[0m\u001b[0mjoin\u001b[0m\u001b[1;33m(\u001b[0m\u001b[0mls_now\u001b[0m\u001b[1;33m)\u001b[0m\u001b[1;33m\u001b[0m\u001b[1;33m\u001b[0m\u001b[0m\n\u001b[0m\u001b[0;32m     12\u001b[0m \u001b[0mprint\u001b[0m\u001b[1;33m(\u001b[0m\u001b[0mstrf\u001b[0m\u001b[1;33m)\u001b[0m\u001b[1;33m\u001b[0m\u001b[1;33m\u001b[0m\u001b[0m\n\u001b[0;32m     13\u001b[0m \u001b[1;31m#Print khong []\u001b[0m\u001b[1;33m\u001b[0m\u001b[1;33m\u001b[0m\u001b[1;33m\u001b[0m\u001b[0m\n",
      "\u001b[1;31mTypeError\u001b[0m: sequence item 0: expected str instance, int found"
     ]
    }
   ],
   "source": [
    "n = 4\n",
    "ls_prev = [0, 1, 1]\n",
    "#ls_now = [1, 2, 1]\n",
    "my_string = ''\n",
    "for j in range(1, n):\n",
    "    ls_now = [0]\n",
    "    for i in range(1, len(ls_prev)):\n",
    "        ls_now.append(ls_prev[i] + ls_prev[i-1])\n",
    "    ls_now.append(1)\n",
    "    ls_prev = ls_now\n",
    "strf = ''.join(ls_now)\n",
    "print(strf)\n",
    "#Print khong []\n",
    "    "
   ]
  },
  {
   "cell_type": "code",
   "execution_count": 44,
   "id": "c0ff294e",
   "metadata": {},
   "outputs": [
    {
     "name": "stdout",
     "output_type": "stream",
     "text": [
      "20\n"
     ]
    }
   ],
   "source": [
    "ls_score = [5, 10, 20, 25, 15]\n",
    "final_lis = []\n",
    "max_score = ls_score[0]\n",
    "for i in ls_score:\n",
    "    if i > max_score:\n",
    "        max_score = i   \n",
    "ls_score.remove(max_score)\n",
    "second_best = ls_score[0]\n",
    "for j in ls_score:\n",
    "    if j > second_best:\n",
    "        second_best = j \n",
    "print(second_best)"
   ]
  },
  {
   "cell_type": "code",
   "execution_count": 54,
   "id": "a10a5fde",
   "metadata": {},
   "outputs": [
    {
     "name": "stdout",
     "output_type": "stream",
     "text": [
      "10\n"
     ]
    }
   ],
   "source": [
    "# ls_score = [5, 10, 20, 25, 15]\n",
    "# final_lis = []\n",
    "# max_score = ls_score[0]\n",
    "# for i in ls_score:\n",
    "#     second_score = ls_score[0]\n",
    "#     if i > max_score:\n",
    "#         max_score = i\n",
    "#     if second_score > i and secondary < max_score:\n",
    "#         second_score = i\n",
    "# print(i)\n",
    "\n",
    "#         if i > second_score:\n",
    "#             second_score = i\n",
    "#             print(i)\n"
   ]
  },
  {
   "cell_type": "code",
   "execution_count": 67,
   "id": "be9e4e67",
   "metadata": {},
   "outputs": [
    {
     "name": "stdout",
     "output_type": "stream",
     "text": [
      "15\n"
     ]
    }
   ],
   "source": [
    "students = [['Harry', 37.21], ['Berry', 37.21], ['Tina', 37.2], ['Akriti', 41], ['Harsh', 39]]\n",
    "score_ls = []\n",
    "for i in range(0,len(students)):\n",
    "    score_ls.append(students[i][1])\n",
    "\n",
    "min_score = ls_score[0]\n",
    "for j in score_ls:\n",
    "    if j < min_score:\n",
    "        min_score = j   \n",
    "print(min_score)\n",
    "ls_score.remove(min_score)\n",
    "\n",
    "\n",
    "# min_score = students[0][1]\n",
    "# for i in range(1,len(students)):\n",
    "#     if students[i][1] < min_score:\n",
    "#         min_score = students[i][1]\n",
    "#         break\n",
    "#     second_lowest_score = min_score\n",
    "    \n",
    "#     name_final_lis = []\n",
    "#     for student in students:\n",
    "#         if second_lowest_score == student[1]:\n",
    "#             name_final_lis.append(student[0])\n",
    "\n",
    "#     for student in sorted(name_final_lis):\n",
    "#         print(student)"
   ]
  },
  {
   "cell_type": "code",
   "execution_count": 71,
   "id": "0eff2dda",
   "metadata": {},
   "outputs": [
    {
     "name": "stdout",
     "output_type": "stream",
     "text": [
      "Berry\n",
      "Harry\n"
     ]
    }
   ],
   "source": [
    "students = [['Harry', 37.21], ['Berry', 37.21], ['Tina', 37.2], ['Akriti', 41], ['Harsh', 39]]\n",
    "score_ls = []\n",
    "for i in range(0,len(students)):\n",
    "    score_ls.append(students[i][1])\n",
    "\n",
    "min_score = score_ls[0]\n",
    "for j in score_ls:\n",
    "    if j < min_score:\n",
    "        min_score = j   \n",
    "score_ls.remove(min_score)\n",
    "second_lowest = score_ls[0]\n",
    "\n",
    "for k in score_ls:\n",
    "    if k < second_lowest:\n",
    "        second_lowest = k \n",
    "\n",
    "name_final_ls = []\n",
    "for student in students:\n",
    "    if second_lowest == student[1]:\n",
    "        name_final_ls.append(student[0])\n",
    "        \n",
    "for student in sorted(name_final_ls):\n",
    "    print(student)\n",
    "    \n",
    "    "
   ]
  }
 ],
 "metadata": {
  "kernelspec": {
   "display_name": "Python 3",
   "language": "python",
   "name": "python3"
  },
  "language_info": {
   "codemirror_mode": {
    "name": "ipython",
    "version": 3
   },
   "file_extension": ".py",
   "mimetype": "text/x-python",
   "name": "python",
   "nbconvert_exporter": "python",
   "pygments_lexer": "ipython3",
   "version": "3.8.8"
  }
 },
 "nbformat": 4,
 "nbformat_minor": 5
}
