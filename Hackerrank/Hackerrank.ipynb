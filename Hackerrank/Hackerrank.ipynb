{
 "cells": [
  {
   "cell_type": "code",
   "execution_count": 9,
   "id": "2a431e45",
   "metadata": {},
   "outputs": [
    {
     "name": "stdout",
     "output_type": "stream",
     "text": [
      "<generator object <genexpr> at 0x000002B34E0C1DD0>\n"
     ]
    }
   ],
   "source": [
    "from collections import Counter\n",
    "s = 'aabbbbbddkkih'\n",
    "dict_s = Counter(list(s))\n",
    "dict_keys=sorted(dict_s.items(), key=lambda x: (-x[1], x[0]))[:3]\n",
    "print (x[0] + ' ' + str(x[1]) for x in dict_keys)"
   ]
  },
  {
   "cell_type": "code",
   "execution_count": 2,
   "id": "0deda122",
   "metadata": {},
   "outputs": [
    {
     "name": "stdout",
     "output_type": "stream",
     "text": [
      "[5, 6]\n"
     ]
    }
   ],
   "source": [
    "def compareTriplets(a, b):\n",
    "    # Write your code here\n",
    "    Alice = 0\n",
    "    Bob = 0\n",
    "    for i in range(0, 3):\n",
    "        if a[i] > b[i]:\n",
    "            Alice += 1\n",
    "        elif a[i] < b[i]:\n",
    "            Bob += 1\n",
    "        else:\n",
    "            continue\n",
    "    result = [Alice, Bob]\n",
    "    return result"
   ]
  },
  {
   "cell_type": "code",
   "execution_count": null,
   "id": "d20bc94e",
   "metadata": {},
   "outputs": [],
   "source": [
    "def diagonalDifference(arr):\n",
    "    d1 = 0\n",
    "    d2 = 0\n",
    "    for i in range(len(arr)):\n",
    "        d1 += arr[i][i]\n",
    "        d2 += arr[i][len(arr) - 1- i]\n",
    "    result = abs(d1 - d2)\n",
    "    return result "
   ]
  },
  {
   "cell_type": "code",
   "execution_count": 8,
   "id": "dcf8b86c",
   "metadata": {},
   "outputs": [
    {
     "name": "stdout",
     "output_type": "stream",
     "text": [
      "10\n",
      "2 3 4 5 6 8 7 6 5 18\n",
      "6\n",
      "6 55\n",
      "6 45\n",
      "6 55\n",
      "4 40\n",
      "18 60\n",
      "10 50\n",
      "200\n"
     ]
    }
   ],
   "source": [
    "from collections import Counter\n",
    "\n",
    "X = int(input())\n",
    "Sizes = map(int, input().split())\n",
    "N = int(input())\n",
    "Price = map(tuple, (map(int, input().split()) for _ in range(N)))\n",
    "s = Counter(Sizes)\n",
    "total = 0\n",
    "for i in Price:\n",
    "    if i[0] in s.keys() and s[i[0]] > 0:\n",
    "        s[i[0]] -= 1\n",
    "        total += i[1]\n",
    "print (total)\n",
    "    "
   ]
  },
  {
   "cell_type": "code",
   "execution_count": null,
   "id": "5ed367e1",
   "metadata": {},
   "outputs": [],
   "source": []
  }
 ],
 "metadata": {
  "kernelspec": {
   "display_name": "Python 3",
   "language": "python",
   "name": "python3"
  },
  "language_info": {
   "codemirror_mode": {
    "name": "ipython",
    "version": 3
   },
   "file_extension": ".py",
   "mimetype": "text/x-python",
   "name": "python",
   "nbconvert_exporter": "python",
   "pygments_lexer": "ipython3",
   "version": "3.8.8"
  }
 },
 "nbformat": 4,
 "nbformat_minor": 5
}
